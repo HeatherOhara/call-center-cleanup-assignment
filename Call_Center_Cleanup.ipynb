{
 "cells": [
  {
   "cell_type": "markdown",
   "id": "331a1c4f",
   "metadata": {},
   "source": [
    "# Call Center Cleanup\n",
    "\n",
    "For this assignment, we will be working with call center data. You can start working on the assignment after the first lesson on Exploratory Data Analysis with pandas. Make sure to read the whole assignment before starting anything! As you code along in the Jupyter notebook, you are asked to make note of the results of your analysis. Do so by clicking on the results box and adding your notes beside each question.\n",
    "\n",
    "## Business Issue and Understanding\n",
    "\n",
    "You are working for a company that has two call centers: the North Call Center and the South Call Center. The company is looking to possibly hire five additional reps to enhance customer experience. Your task is to explore how efficient the current reps are in each branch to determine which branch would benefit from additional assistance.\n",
    "\n",
    "### How the Call Center Works\n",
    "\n",
    "Call center representatives are assigned queues. When calls are assigned to a queue, the call is assigned to the next person in line in the queue. After a call is assigned to a representative, the amount of time between assignment and the call starting is divided into busy minutes and not ready minutes. If the call is incoming and a customer is waiting on the phone for a rep, the time is split into three categories: busy minutes, not ready minutes, and incoming call wait time. Once the rep has the customer on the phone, there might be during call wait time, where the call is put on hold while the rep gets an answer for the customer.\n",
    "\n",
    "### Notes about the Dataset\n",
    "\n",
    "If you haven't worked in a call center before, these notes might help you throughout your analysis.\n",
    "\n",
    "* The call purpose is tagged for each call.\n",
    "* The time of the call is tagged in 1 hour blocks starting at 9:00 AM and ending at 5:00 PM.\n",
    "* Calls are tagged as incoming or outgoing.\n",
    "* Reps are assigned to queues. When the reps are working, they take calls in the order of their queue.\n",
    "* A call that is dropped due to technical error or missed by the center because they have reached maximum capacity is a lost call.\n",
    "* An abandoned call is when the customer hangs up because they have been waiting for too long.\n",
    "* Busy Minutes: the amount of time after a call comes in or needs to go out where the assigned rep is not available because they are busy with other customers.\n",
    "* Not Ready Minutes: the amount of time after a call comes in or needs to go out where the assigned rep is not available because they are not ready (for example, getting water).\n",
    "* Incoming Wait Time - amount of time after assigned rep is available to take the call customer waits for representative to pick up a call. This is tracked in seconds.\n",
    "* During Call Wait Time - amount of time during call that customer has to wait for representative\n",
    "\n",
    "## Getting Started\n",
    "\n",
    "You have two CSVs at your disposal, `NorthCallCenter.csv` and `SouthCallCenter.csv`. Import the appropriate libraries and create two dataframes, one called `north_df` and one called `south_df`."
   ]
  },
  {
   "cell_type": "code",
   "execution_count": 27,
   "id": "f362436b",
   "metadata": {},
   "outputs": [],
   "source": [
    "# Import the appropriate libraries with aliases\n",
    "import pandas as pd\n",
    "\n",
    "# Create two new dataframes\n",
    "north_df = pd.read_csv('NorthCallCenter.csv')\n",
    "south_df = pd.read_csv('SouthCallCenter.csv')\n"
   ]
  },
  {
   "cell_type": "markdown",
   "id": "b4d3484b",
   "metadata": {},
   "source": [
    "## Task 1: Exploratory Data Analysis\n",
    "\n",
    "Time to do some EDA! In the process of learning more about the two datasets, answer the following questions. Use the code blocks below to begin cleaning your data. At the end of the section, record your answers."
   ]
  },
  {
   "cell_type": "markdown",
   "id": "76898991",
   "metadata": {},
   "source": [
    "#### EDA Question 1A:  How many reps are in the North branch?  "
   ]
  },
  {
   "cell_type": "code",
   "execution_count": 28,
   "id": "ce3eb5e4",
   "metadata": {},
   "outputs": [
    {
     "name": "stdout",
     "output_type": "stream",
     "text": [
      "Number of reps in the North call Center : 9\n"
     ]
    }
   ],
   "source": [
    "# EDA Question 1A solution below:\n",
    "import pandas as pd\n",
    "north_df = pd.read_csv('NorthCallCenter.csv')\n",
    "unique_rep_count = north_df['Rep ID'].nunique()\n",
    "\n",
    "print(f'Number of reps in the North call Center : {unique_rep_count}')\n"
   ]
  },
  {
   "cell_type": "markdown",
   "id": "2a9b34d8",
   "metadata": {},
   "source": [
    "#### EDA Question 1B:  How many reps are in the South branch?  "
   ]
  },
  {
   "cell_type": "code",
   "execution_count": 29,
   "id": "3c715bbf",
   "metadata": {},
   "outputs": [
    {
     "name": "stdout",
     "output_type": "stream",
     "text": [
      "Number of reps in the South call Center : 11\n"
     ]
    }
   ],
   "source": [
    "# EDA Question 1B solution Below:\n",
    "import pandas as pd\n",
    "south_df = pd.read_csv('SouthCallCenter.csv')\n",
    "unique_rep_count = south_df['Rep ID'].nunique()\n",
    "\n",
    "print(f'Number of reps in the South call Center : {unique_rep_count}')\n"
   ]
  },
  {
   "cell_type": "markdown",
   "id": "a872f045",
   "metadata": {},
   "source": [
    "#### EDA Question 2A:  What is the average busy minutes, not ready minutes, incoming wait time, and during call wait time for the North branch? "
   ]
  },
  {
   "cell_type": "code",
   "execution_count": 34,
   "id": "3759305f",
   "metadata": {},
   "outputs": [
    {
     "name": "stdout",
     "output_type": "stream",
     "text": [
      "Avg Busy Minutes:9.99\n",
      "Avg Not Ready Minutes:1.91\n",
      "Avg Inoomcing Wait Time:3.05\n",
      "Avg During Call Wait Itme:2.97\n"
     ]
    }
   ],
   "source": [
    "# EDA Question 2A solution Below:\n",
    "import pandas as pd\n",
    "north_df = pd.read_csv('NorthCallCenter.csv')\n",
    "\n",
    "avg_busy_min = north_df['Busy Minutes'].mean()\n",
    "avg_not_ready_min = north_df['Not Ready Minutes'].mean()\n",
    "avg_incoming_wait_tiem = north_df['Incoming Wait Time'].mean()\n",
    "avg_during_call_wait_time = north_df['During Call Wait Time'].mean()\n",
    "\n",
    "print(f\"Avg Busy Minutes:{avg_busy_min:.2f}\")\n",
    "print(f\"Avg Not Ready Minutes:{avg_not_ready_min:.2f}\")\n",
    "print(f\"Avg Inoomcing Wait Time:{avg_incoming_wait_tiem:.2f}\")\n",
    "print(f\"Avg During Call Wait Itme:{avg_during_call_wait_time:.2f}\")"
   ]
  },
  {
   "cell_type": "markdown",
   "id": "3851cf3e",
   "metadata": {},
   "source": [
    "#### EDA Question 2B:  What is the average busy minutes, not ready minutes, incoming wait time, and during call wait time for the South branch? "
   ]
  },
  {
   "cell_type": "code",
   "execution_count": 35,
   "id": "a77ec152",
   "metadata": {},
   "outputs": [
    {
     "name": "stdout",
     "output_type": "stream",
     "text": [
      "Avg Busy Minutes:10.05\n",
      "Avg Not Ready Minutes:1.91\n",
      "Avg Inoomcing Wait Time:3.00\n",
      "Avg During Call Wait Itme:3.08\n"
     ]
    }
   ],
   "source": [
    "# EDA Question 2B solution Below:\n",
    "import pandas as pd\n",
    "south_df = pd.read_csv('SouthCallCenter.csv')\n",
    "\n",
    "avg_busy_min = south_df['Busy Minutes'].mean()\n",
    "avg_not_ready_min = south_df['Not Ready Minutes'].mean()\n",
    "avg_incoming_wait_tiem = south_df['Incoming Wait Time'].mean()\n",
    "avg_during_call_wait_time = south_df['During Call Wait Time'].mean()\n",
    "\n",
    "print(f\"Avg Busy Minutes:{avg_busy_min:.2f}\")\n",
    "print(f\"Avg Not Ready Minutes:{avg_not_ready_min:.2f}\")\n",
    "print(f\"Avg Inoomcing Wait Time:{avg_incoming_wait_tiem:.2f}\")\n",
    "print(f\"Avg During Call Wait Itme:{avg_during_call_wait_time:.2f}\")\n"
   ]
  },
  {
   "cell_type": "markdown",
   "id": "75915553",
   "metadata": {},
   "source": [
    "#### EDA Question 3:  What is the number of calls taken for each time block(Both North and South combined)?"
   ]
  },
  {
   "cell_type": "code",
   "execution_count": 36,
   "id": "49566936",
   "metadata": {},
   "outputs": [
    {
     "name": "stdout",
     "output_type": "stream",
     "text": [
      "Time Block\n",
      "10:00 AM     99\n",
      "11:00 AM     56\n",
      "12:00 PM    120\n",
      "1:00 PM      40\n",
      "2:00 PM      65\n",
      "3:00 PM      73\n",
      "4:00 PM      53\n",
      "5:00 PM      43\n",
      "9:00 AM      10\n",
      "Name: Calls, dtype: int64\n"
     ]
    }
   ],
   "source": [
    "# EDA Question 3 solution Below:\n",
    "import pandas as pd\n",
    "\n",
    "north_df = pd.read_csv('NorthCallCenter.csv')\n",
    "south_df = pd.read_csv('SouthCallCenter.csv')\n",
    "\n",
    "combined_df = pd.concat([north_df, south_df])\n",
    "\n",
    "call_counts = combined_df.groupby('Time Block')['Calls'].count()\n",
    "\n",
    "print(call_counts)\n"
   ]
  },
  {
   "cell_type": "markdown",
   "id": "40b1fd3f",
   "metadata": {},
   "source": [
    "##### Record your answers for the EDA section below:\n",
    "- 1a) Reps in the North Branch = 9\n",
    "- 1b) Reps in the South Branch = 11\n",
    "\n",
    "\n",
    "- 2a) North Branch, (round to the nearest hundredth):\n",
    "> - Busy Minutes = 9.99\n",
    "> - Not Ready Minutes = 1.91\n",
    "> - Incoming Wait Time = 3.05\n",
    "> - During Call Wait Time = 2.97\n",
    "- 2b) South Branch, (round to the nearest hundredth):\n",
    "> - Busy Minutes = 10.05\n",
    "> - Not Ready Minutes = 1.91\n",
    "> - Incoming Wait Time = 3.00\n",
    "> - During Call Wait Time = 3.08\n",
    "- 3) Total Calls taken for all branches per time block:\n",
    "> - 9:00AM   = 99\n",
    "> - 10:00AM  = 56\n",
    "> - 11:00AM  = 120\n",
    "> - 12:00PM  = 40\n",
    "> - 1:00PM   = 65\n",
    "> - 2:00PM   = 73\n",
    "> - 3:00PM   = 53\n",
    "> - 4:00PM   = 43\n",
    "> - 5:00PM   = 10\n",
    "\n"
   ]
  },
  {
   "cell_type": "markdown",
   "id": "366bfb19",
   "metadata": {},
   "source": [
    "## Task 2: Cleaning Your Data \n",
    "Now you need to clean up the datasets. When cleaning the datasets, you may find that there isn't dirty data to clean. That is okay! Some questions you need to answer about the data sets.\n",
    "* Add additional code blocks as needed to show how you came to your conclusions. Add comments in your code blocks to help others understand your thinking. "
   ]
  },
  {
   "cell_type": "markdown",
   "id": "c3564d69",
   "metadata": {},
   "source": [
    "#### Cleaning Question 1:  Is there any missing data and if yes explain what you would do with the missing data and why?"
   ]
  },
  {
   "cell_type": "code",
   "execution_count": 37,
   "id": "b77fb574",
   "metadata": {},
   "outputs": [
    {
     "name": "stdout",
     "output_type": "stream",
     "text": [
      "Incoming Wait Time    163\n",
      "dtype: int64\n",
      "Incoming Wait Time    188\n",
      "dtype: int64\n",
      "     Unnamed: 0 Branch     Call Purpose Time Block Incoming or Outgoing Queue  \\\n",
      "82           82  North    Sales Support   10:00 AM             Outgoing     A   \n",
      "83           83  North    Sales Support   10:00 AM             Outgoing     B   \n",
      "84           84  North    Sales Support   11:00 AM             Outgoing     B   \n",
      "85           85  North  Product Support    9:00 AM             Outgoing     B   \n",
      "86           86  North    Sales Support   10:00 AM             Outgoing     B   \n",
      "..          ...    ...              ...        ...                  ...   ...   \n",
      "240         240  North  Product Support    5:00 PM             Outgoing     B   \n",
      "241         241  North  Product Support    5:00 PM             Outgoing     A   \n",
      "242         242  North  Product Support    5:00 PM             Outgoing     A   \n",
      "243         243  North  Product Support    5:00 PM             Outgoing     A   \n",
      "244         244  North  Product Support    5:00 PM             Outgoing     B   \n",
      "\n",
      "     Rep ID Sale  Lost Call  Abandoned  Busy Minutes  Not Ready Minutes  \\\n",
      "82      Cam   NO          1          0             8                  1   \n",
      "83     Duke   NO          1          0            10                  2   \n",
      "84   Xander   NO          1          0            10                  1   \n",
      "85     Duke   NO          1          0            12                  1   \n",
      "86    Lilly  YES          0          1             9                  3   \n",
      "..      ...  ...        ...        ...           ...                ...   \n",
      "240   Brent   NO          0          0            10                  2   \n",
      "241     Joe   NO          0          0             8                  3   \n",
      "242  Amanda   NO          0          0            12                  1   \n",
      "243     Cam   NO          0          0            11                  2   \n",
      "244  Xander   NO          0          0             8                  1   \n",
      "\n",
      "     Incoming Wait Time  During Call Wait Time  Calls  \n",
      "82                  NaN                      2      1  \n",
      "83                  NaN                      4      1  \n",
      "84                  NaN                      4      1  \n",
      "85                  NaN                      2      1  \n",
      "86                  NaN                      4      1  \n",
      "..                  ...                    ...    ...  \n",
      "240                 NaN                      3      1  \n",
      "241                 NaN                      2      1  \n",
      "242                 NaN                      2      1  \n",
      "243                 NaN                      2      1  \n",
      "244                 NaN                      4      1  \n",
      "\n",
      "[163 rows x 15 columns]\n",
      "     Unnamed: 0 Branch     Call Purpose Time Block Incoming or Outgoing Queue  \\\n",
      "126         126  South  Product Support    9:00 AM             Outgoing     C   \n",
      "127         127  South  Product Support    9:00 AM             Outgoing     C   \n",
      "128         128  South  Product Support    9:00 AM             Outgoing     D   \n",
      "129         129  South    Sales Support   10:00 AM             Outgoing     C   \n",
      "130         130  South    Sales Support   11:00 AM             Outgoing     D   \n",
      "..          ...    ...              ...        ...                  ...   ...   \n",
      "309         309  South  Product Support    5:00 PM             Outgoing     D   \n",
      "310         310  South  Product Support    5:00 PM             Outgoing     C   \n",
      "311         311  South  Product Support    5:00 PM             Outgoing     C   \n",
      "312         312  South  Product Support    5:00 PM             Outgoing     C   \n",
      "313         313  South  Product Support    5:00 PM             Outgoing     D   \n",
      "\n",
      "     Rep ID Sale  Lost Call  Abandoned  Busy Minutes  Not Ready Minutes  \\\n",
      "126   Sandy   NO          1          0            12                  2   \n",
      "127   Susan   NO          1          0             9                  3   \n",
      "128    Karl   NO          1          0             9                  3   \n",
      "129   Susan   NO          1          0             8                  2   \n",
      "130    Josh   NO          1          0             9                  2   \n",
      "..      ...  ...        ...        ...           ...                ...   \n",
      "309   Helga   NO          0          0            10                  3   \n",
      "310   Susan   NO          0          0            12                  3   \n",
      "311   Sandy   NO          0          0             9                  3   \n",
      "312    Eric   NO          0          0            10                  1   \n",
      "313  George   NO          0          0            10                  2   \n",
      "\n",
      "     Incoming Wait Time  During Call Wait Time  Calls  \n",
      "126                 NaN                      4      1  \n",
      "127                 NaN                      4      1  \n",
      "128                 NaN                      4      1  \n",
      "129                 NaN                      4      1  \n",
      "130                 NaN                      4      1  \n",
      "..                  ...                    ...    ...  \n",
      "309                 NaN                      4      1  \n",
      "310                 NaN                      4      1  \n",
      "311                 NaN                      4      1  \n",
      "312                 NaN                      2      1  \n",
      "313                 NaN                      3      1  \n",
      "\n",
      "[188 rows x 15 columns]\n"
     ]
    }
   ],
   "source": [
    "# Question 1 solution below\n",
    "# use isnull\n",
    "\n",
    "import pandas as pd\n",
    "north_df = pd.read_csv('NorthCallCenter.csv')\n",
    "south_df = pd.read_csv('SouthCallCenter.csv')\n",
    "\n",
    "missing_data_ndf = north_df.isnull().sum()\n",
    "missing_data_sdf = south_df.isnull().sum()\n",
    "\n",
    "null_rows_ndf = north_df[north_df.isnull().any(axis= 1)]\n",
    "null_rows_sdf = south_df[south_df.isnull().any(axis=1)]\n",
    "\n",
    "print(missing_data_ndf[missing_data_ndf> 0])\n",
    "print(missing_data_sdf[missing_data_sdf> 0])\n",
    "print(null_rows_ndf)\n",
    "print(null_rows_sdf)"
   ]
  },
  {
   "cell_type": "code",
   "execution_count": 38,
   "id": "65ece6c7",
   "metadata": {},
   "outputs": [
    {
     "name": "stdout",
     "output_type": "stream",
     "text": [
      "Shape of north DF:(245, 15)\n",
      "Shape of South DF:(314, 15)\n"
     ]
    }
   ],
   "source": [
    "import pandas as pd\n",
    "\n",
    "north_df = pd.read_csv('NorthCallCenter.csv')\n",
    "south_df = pd.read_csv('SouthCallCenter.csv')\n",
    "\n",
    "print(f\"Shape of north DF:{north_df.shape}\")\n",
    "print(f\"Shape of South DF:{south_df.shape}\")"
   ]
  },
  {
   "cell_type": "code",
   "execution_count": 39,
   "id": "75979787",
   "metadata": {},
   "outputs": [
    {
     "data": {
      "text/html": [
       "<div>\n",
       "<style scoped>\n",
       "    .dataframe tbody tr th:only-of-type {\n",
       "        vertical-align: middle;\n",
       "    }\n",
       "\n",
       "    .dataframe tbody tr th {\n",
       "        vertical-align: top;\n",
       "    }\n",
       "\n",
       "    .dataframe thead th {\n",
       "        text-align: right;\n",
       "    }\n",
       "</style>\n",
       "<table border=\"1\" class=\"dataframe\">\n",
       "  <thead>\n",
       "    <tr style=\"text-align: right;\">\n",
       "      <th></th>\n",
       "      <th>Unnamed: 0</th>\n",
       "      <th>Branch</th>\n",
       "      <th>Call Purpose</th>\n",
       "      <th>Time Block</th>\n",
       "      <th>Incoming or Outgoing</th>\n",
       "      <th>Queue</th>\n",
       "      <th>Rep ID</th>\n",
       "      <th>Sale</th>\n",
       "      <th>Lost Call</th>\n",
       "      <th>Abandoned</th>\n",
       "      <th>Busy Minutes</th>\n",
       "      <th>Not Ready Minutes</th>\n",
       "      <th>Incoming Wait Time</th>\n",
       "      <th>During Call Wait Time</th>\n",
       "      <th>Calls</th>\n",
       "    </tr>\n",
       "  </thead>\n",
       "  <tbody>\n",
       "    <tr>\n",
       "      <th>0</th>\n",
       "      <td>0</td>\n",
       "      <td>South</td>\n",
       "      <td>Sales Support</td>\n",
       "      <td>10:00 AM</td>\n",
       "      <td>Incoming</td>\n",
       "      <td>D</td>\n",
       "      <td>Kate</td>\n",
       "      <td>NO</td>\n",
       "      <td>0</td>\n",
       "      <td>0</td>\n",
       "      <td>9</td>\n",
       "      <td>1</td>\n",
       "      <td>1.0</td>\n",
       "      <td>2</td>\n",
       "      <td>1</td>\n",
       "    </tr>\n",
       "    <tr>\n",
       "      <th>1</th>\n",
       "      <td>1</td>\n",
       "      <td>South</td>\n",
       "      <td>Sales Support</td>\n",
       "      <td>10:00 AM</td>\n",
       "      <td>Incoming</td>\n",
       "      <td>C</td>\n",
       "      <td>Eric</td>\n",
       "      <td>NO</td>\n",
       "      <td>0</td>\n",
       "      <td>0</td>\n",
       "      <td>8</td>\n",
       "      <td>2</td>\n",
       "      <td>1.0</td>\n",
       "      <td>4</td>\n",
       "      <td>1</td>\n",
       "    </tr>\n",
       "    <tr>\n",
       "      <th>2</th>\n",
       "      <td>2</td>\n",
       "      <td>South</td>\n",
       "      <td>Sales Support</td>\n",
       "      <td>10:00 AM</td>\n",
       "      <td>Incoming</td>\n",
       "      <td>C</td>\n",
       "      <td>Susan</td>\n",
       "      <td>NO</td>\n",
       "      <td>0</td>\n",
       "      <td>0</td>\n",
       "      <td>10</td>\n",
       "      <td>2</td>\n",
       "      <td>1.0</td>\n",
       "      <td>4</td>\n",
       "      <td>1</td>\n",
       "    </tr>\n",
       "    <tr>\n",
       "      <th>3</th>\n",
       "      <td>3</td>\n",
       "      <td>South</td>\n",
       "      <td>Sales Support</td>\n",
       "      <td>10:00 AM</td>\n",
       "      <td>Incoming</td>\n",
       "      <td>C</td>\n",
       "      <td>Alice</td>\n",
       "      <td>NO</td>\n",
       "      <td>0</td>\n",
       "      <td>0</td>\n",
       "      <td>12</td>\n",
       "      <td>1</td>\n",
       "      <td>1.0</td>\n",
       "      <td>3</td>\n",
       "      <td>1</td>\n",
       "    </tr>\n",
       "    <tr>\n",
       "      <th>4</th>\n",
       "      <td>4</td>\n",
       "      <td>South</td>\n",
       "      <td>Sales Support</td>\n",
       "      <td>12:00 PM</td>\n",
       "      <td>Incoming</td>\n",
       "      <td>C</td>\n",
       "      <td>Sandy</td>\n",
       "      <td>NO</td>\n",
       "      <td>0</td>\n",
       "      <td>0</td>\n",
       "      <td>8</td>\n",
       "      <td>3</td>\n",
       "      <td>1.0</td>\n",
       "      <td>3</td>\n",
       "      <td>1</td>\n",
       "    </tr>\n",
       "    <tr>\n",
       "      <th>...</th>\n",
       "      <td>...</td>\n",
       "      <td>...</td>\n",
       "      <td>...</td>\n",
       "      <td>...</td>\n",
       "      <td>...</td>\n",
       "      <td>...</td>\n",
       "      <td>...</td>\n",
       "      <td>...</td>\n",
       "      <td>...</td>\n",
       "      <td>...</td>\n",
       "      <td>...</td>\n",
       "      <td>...</td>\n",
       "      <td>...</td>\n",
       "      <td>...</td>\n",
       "      <td>...</td>\n",
       "    </tr>\n",
       "    <tr>\n",
       "      <th>309</th>\n",
       "      <td>309</td>\n",
       "      <td>South</td>\n",
       "      <td>Product Support</td>\n",
       "      <td>5:00 PM</td>\n",
       "      <td>Outgoing</td>\n",
       "      <td>D</td>\n",
       "      <td>Helga</td>\n",
       "      <td>NO</td>\n",
       "      <td>0</td>\n",
       "      <td>0</td>\n",
       "      <td>10</td>\n",
       "      <td>3</td>\n",
       "      <td>NaN</td>\n",
       "      <td>4</td>\n",
       "      <td>1</td>\n",
       "    </tr>\n",
       "    <tr>\n",
       "      <th>310</th>\n",
       "      <td>310</td>\n",
       "      <td>South</td>\n",
       "      <td>Product Support</td>\n",
       "      <td>5:00 PM</td>\n",
       "      <td>Outgoing</td>\n",
       "      <td>C</td>\n",
       "      <td>Susan</td>\n",
       "      <td>NO</td>\n",
       "      <td>0</td>\n",
       "      <td>0</td>\n",
       "      <td>12</td>\n",
       "      <td>3</td>\n",
       "      <td>NaN</td>\n",
       "      <td>4</td>\n",
       "      <td>1</td>\n",
       "    </tr>\n",
       "    <tr>\n",
       "      <th>311</th>\n",
       "      <td>311</td>\n",
       "      <td>South</td>\n",
       "      <td>Product Support</td>\n",
       "      <td>5:00 PM</td>\n",
       "      <td>Outgoing</td>\n",
       "      <td>C</td>\n",
       "      <td>Sandy</td>\n",
       "      <td>NO</td>\n",
       "      <td>0</td>\n",
       "      <td>0</td>\n",
       "      <td>9</td>\n",
       "      <td>3</td>\n",
       "      <td>NaN</td>\n",
       "      <td>4</td>\n",
       "      <td>1</td>\n",
       "    </tr>\n",
       "    <tr>\n",
       "      <th>312</th>\n",
       "      <td>312</td>\n",
       "      <td>South</td>\n",
       "      <td>Product Support</td>\n",
       "      <td>5:00 PM</td>\n",
       "      <td>Outgoing</td>\n",
       "      <td>C</td>\n",
       "      <td>Eric</td>\n",
       "      <td>NO</td>\n",
       "      <td>0</td>\n",
       "      <td>0</td>\n",
       "      <td>10</td>\n",
       "      <td>1</td>\n",
       "      <td>NaN</td>\n",
       "      <td>2</td>\n",
       "      <td>1</td>\n",
       "    </tr>\n",
       "    <tr>\n",
       "      <th>313</th>\n",
       "      <td>313</td>\n",
       "      <td>South</td>\n",
       "      <td>Product Support</td>\n",
       "      <td>5:00 PM</td>\n",
       "      <td>Outgoing</td>\n",
       "      <td>D</td>\n",
       "      <td>George</td>\n",
       "      <td>NO</td>\n",
       "      <td>0</td>\n",
       "      <td>0</td>\n",
       "      <td>10</td>\n",
       "      <td>2</td>\n",
       "      <td>NaN</td>\n",
       "      <td>3</td>\n",
       "      <td>1</td>\n",
       "    </tr>\n",
       "  </tbody>\n",
       "</table>\n",
       "<p>314 rows × 15 columns</p>\n",
       "</div>"
      ],
      "text/plain": [
       "     Unnamed: 0 Branch     Call Purpose Time Block Incoming or Outgoing Queue  \\\n",
       "0             0  South    Sales Support   10:00 AM             Incoming     D   \n",
       "1             1  South    Sales Support   10:00 AM             Incoming     C   \n",
       "2             2  South    Sales Support   10:00 AM             Incoming     C   \n",
       "3             3  South    Sales Support   10:00 AM             Incoming     C   \n",
       "4             4  South    Sales Support   12:00 PM             Incoming     C   \n",
       "..          ...    ...              ...        ...                  ...   ...   \n",
       "309         309  South  Product Support    5:00 PM             Outgoing     D   \n",
       "310         310  South  Product Support    5:00 PM             Outgoing     C   \n",
       "311         311  South  Product Support    5:00 PM             Outgoing     C   \n",
       "312         312  South  Product Support    5:00 PM             Outgoing     C   \n",
       "313         313  South  Product Support    5:00 PM             Outgoing     D   \n",
       "\n",
       "     Rep ID Sale  Lost Call  Abandoned  Busy Minutes  Not Ready Minutes  \\\n",
       "0      Kate   NO          0          0             9                  1   \n",
       "1      Eric   NO          0          0             8                  2   \n",
       "2     Susan   NO          0          0            10                  2   \n",
       "3     Alice   NO          0          0            12                  1   \n",
       "4     Sandy   NO          0          0             8                  3   \n",
       "..      ...  ...        ...        ...           ...                ...   \n",
       "309   Helga   NO          0          0            10                  3   \n",
       "310   Susan   NO          0          0            12                  3   \n",
       "311   Sandy   NO          0          0             9                  3   \n",
       "312    Eric   NO          0          0            10                  1   \n",
       "313  George   NO          0          0            10                  2   \n",
       "\n",
       "     Incoming Wait Time  During Call Wait Time  Calls  \n",
       "0                   1.0                      2      1  \n",
       "1                   1.0                      4      1  \n",
       "2                   1.0                      4      1  \n",
       "3                   1.0                      3      1  \n",
       "4                   1.0                      3      1  \n",
       "..                  ...                    ...    ...  \n",
       "309                 NaN                      4      1  \n",
       "310                 NaN                      4      1  \n",
       "311                 NaN                      4      1  \n",
       "312                 NaN                      2      1  \n",
       "313                 NaN                      3      1  \n",
       "\n",
       "[314 rows x 15 columns]"
      ]
     },
     "execution_count": 39,
     "metadata": {},
     "output_type": "execute_result"
    }
   ],
   "source": [
    "import pandas as pd\n",
    "\n",
    "north_df = pd.read_csv('NorthCallCenter.csv')\n",
    "south_df = pd.read_csv('SouthCallCenter.csv')\n",
    "\n",
    "north_df\n",
    "south_df"
   ]
  },
  {
   "cell_type": "markdown",
   "id": "0dc5c568-40db-4889-b82b-64610d8058d2",
   "metadata": {},
   "source": [
    "#### Record your answer below:\n",
    "\n",
    "> Your Answer: There does seem to be lots of NaN values in the Incoming Wait times Column. They all seem to be related to Outgoing calls. In terms of clean up I would impute the data in that column as we are looking into which call center needs new reps to help. Having those balues averaged and filled in would help createa a more accurate representation of the average shoul dit be needed. "
   ]
  },
  {
   "cell_type": "markdown",
   "id": "dc47f020",
   "metadata": {},
   "source": [
    "#### Cleaning Question 2:  In the North data set, there are two separate \"YES\" values for a sale. Why and how did you rectify the issue?"
   ]
  },
  {
   "cell_type": "code",
   "execution_count": 40,
   "id": "4e0fbad6",
   "metadata": {},
   "outputs": [
    {
     "name": "stdout",
     "output_type": "stream",
     "text": [
      "Unique Sales NDF ['NO' 'YES ' 'YES']\n",
      "Unique sales NDF after stripping spaces ['NO' 'YES']\n"
     ]
    }
   ],
   "source": [
    "# Cleaning Question 2 solution below:\n",
    "import pandas as pd\n",
    "north_df = pd.read_csv('NorthCallCenter.csv')\n",
    "\n",
    "unique_sales = north_df['Sale'].unique()\n",
    "print(f\"Unique Sales NDF\", unique_sales)\n",
    "\n",
    "north_df['Sale']= north_df['Sale'].str.rstrip()\n",
    "\n",
    "unique_sale_after = north_df['Sale'].unique()\n",
    "print(f\"Unique sales NDF after stripping spaces\", unique_sale_after)"
   ]
  },
  {
   "cell_type": "markdown",
   "id": "cf81b612-eb6b-45a6-ac8e-d6f4e08131a8",
   "metadata": {},
   "source": [
    "##### Record your answer by below:\n",
    "> Your Answer: I stripped the extra space from the appropriate values that way the data id uniform and will not cause any issues for improper formatting "
   ]
  },
  {
   "cell_type": "markdown",
   "id": "715f375a",
   "metadata": {},
   "source": [
    "#### Cleaning Question 3:  Are there duplicates in the two data sets? If there are, how did you handle them?"
   ]
  },
  {
   "cell_type": "code",
   "execution_count": 42,
   "id": "2323673a",
   "metadata": {},
   "outputs": [
    {
     "name": "stdout",
     "output_type": "stream",
     "text": [
      "Duplicates NDF:\n",
      "Empty DataFrame\n",
      "Columns: [Unnamed: 0, Branch, Call Purpose, Time Block, Incoming or Outgoing, Queue, Rep ID, Sale, Lost Call, Abandoned, Busy Minutes, Not Ready Minutes, Incoming Wait Time, During Call Wait Time, Calls]\n",
      "Index: []\n",
      "Total number of dup rows NDF:0\n"
     ]
    }
   ],
   "source": [
    "# Cleaning Question 3 solution below:\n",
    "import pandas as pd\n",
    "north_df = pd.read_csv('NorthCallCenter.csv')\n",
    "\n",
    "duplicates = north_df[north_df.duplicated()]\n",
    "print(f'Duplicates NDF:')\n",
    "print(duplicates)\n",
    "\n",
    "#count dup rows\n",
    "\n",
    "total_dups = north_df.duplicated().sum()\n",
    "print(f'Total number of dup rows NDF:{total_dups}')"
   ]
  },
  {
   "cell_type": "code",
   "execution_count": 43,
   "id": "9b8285b5",
   "metadata": {},
   "outputs": [
    {
     "name": "stdout",
     "output_type": "stream",
     "text": [
      "Duplicates SDF:\n",
      "Empty DataFrame\n",
      "Columns: [Unnamed: 0, Branch, Call Purpose, Time Block, Incoming or Outgoing, Queue, Rep ID, Sale, Lost Call, Abandoned, Busy Minutes, Not Ready Minutes, Incoming Wait Time, During Call Wait Time, Calls]\n",
      "Index: []\n",
      "Total number of dup rows SDF:0\n"
     ]
    }
   ],
   "source": [
    "import pandas as pd\n",
    "south_df = pd.read_csv('SouthCallCenter.csv')\n",
    "\n",
    "duplicates = south_df[south_df.duplicated()]\n",
    "print(f'Duplicates SDF:')\n",
    "print(duplicates)\n",
    "\n",
    "#count dup rows\n",
    "\n",
    "total_dups = south_df.duplicated().sum()\n",
    "print(f'Total number of dup rows SDF:{total_dups}')"
   ]
  },
  {
   "cell_type": "markdown",
   "id": "4fbfe2e8-490a-48dc-b0ca-599879076c62",
   "metadata": {},
   "source": [
    "##### Record your answer below:\n",
    "> Your Answer: There appear to be no duplicate rows in either dataset, no further action required."
   ]
  },
  {
   "cell_type": "markdown",
   "id": "8ffaa865",
   "metadata": {},
   "source": [
    "#### Cleaning Question 4:  Is any of the data in the two data sets unnecessary? If yes, how did you handle it?"
   ]
  },
  {
   "cell_type": "code",
   "execution_count": 17,
   "id": "78b45e70",
   "metadata": {},
   "outputs": [],
   "source": []
  },
  {
   "cell_type": "markdown",
   "id": "689e76b9-64d2-45d7-883a-b8c4d822e0c8",
   "metadata": {},
   "source": [
    "##### Record your answer below:\n",
    "> Your Answer: I do not feel it would be appropriate to frop any of the data at this stage. "
   ]
  },
  {
   "cell_type": "markdown",
   "id": "73342a9a",
   "metadata": {},
   "source": [
    "## Task 3: Data Manipulation\n",
    "Before you begin answering any questions, combine the two datasets together to create a third dataframe called df. You can use this third dataframe to compare the two call centers to company-wide trends.\n",
    "* Add additional code blocks as needed to show how you came to your conclusions. Add comments in your code blocks to help others understand your thinking. Record your answer below."
   ]
  },
  {
   "cell_type": "code",
   "execution_count": 44,
   "id": "e9705c34",
   "metadata": {},
   "outputs": [
    {
     "name": "stdout",
     "output_type": "stream",
     "text": [
      "Shape of combined DF: (559, 15)\n",
      "   Unnamed: 0 Branch     Call Purpose Time Block Incoming or Outgoing Queue  \\\n",
      "0           0  North        Complaint    9:00 AM             Incoming     B   \n",
      "1           1  North    Sales Support   11:00 AM             Incoming     A   \n",
      "2           2  North    Sales Support   11:00 AM             Incoming     B   \n",
      "3           3  North    Sales Support    4:00 PM             Incoming     B   \n",
      "4           4  North  Product Support   12:00 PM             Incoming     B   \n",
      "\n",
      "  Rep ID Sale  Lost Call  Abandoned  Busy Minutes  Not Ready Minutes  \\\n",
      "0  Brent   NO          0          1             9                  2   \n",
      "1    Cam   NO          0          0            11                  1   \n",
      "2   Todd   NO          0          0             9                  3   \n",
      "3  Brent   NO          0          0            11                  2   \n",
      "4  Brent   NO          0          0             8                  2   \n",
      "\n",
      "   Incoming Wait Time  During Call Wait Time  Calls  \n",
      "0                 1.0                      4      1  \n",
      "1                 1.0                      3      1  \n",
      "2                 1.0                      3      1  \n",
      "3                 1.0                      4      1  \n",
      "4                 1.0                      4      1  \n"
     ]
    }
   ],
   "source": [
    "# Create dataframe for the entire company named df\n",
    "import pandas as pd\n",
    "\n",
    "north_df = pd.read_csv('NorthCallCenter.csv')\n",
    "south_df = pd.read_csv('SouthCallCenter.csv')\n",
    "\n",
    "df = pd.concat([north_df, south_df],ignore_index=True)\n",
    "print(f\"Shape of combined DF:\", df.shape)\n",
    "print(df.head())\n",
    "\n"
   ]
  },
  {
   "cell_type": "markdown",
   "id": "7e87dfd1",
   "metadata": {},
   "source": [
    "#### Manipulation Question 1:  Group by Rep ID and sum the resulting structure. Sort by calls to determine which rep in each branch has the highest number of calls."
   ]
  },
  {
   "cell_type": "code",
   "execution_count": 45,
   "id": "3953f09a",
   "metadata": {},
   "outputs": [
    {
     "name": "stdout",
     "output_type": "stream",
     "text": [
      "    Rep ID Branch  Calls\n",
      "3    Brent  North     37\n",
      "6     Eric  South     35\n",
      "14   Randy  South     33\n",
      "15   Sandy  South     32\n",
      "8    Helga  South     31\n",
      "13   Lilly  North     30\n",
      "7   George  South     29\n",
      "12    Kate  South     29\n",
      "18    Todd  North     29\n",
      "5     Duke  North     29\n",
      "11    Karl  South     28\n",
      "9      Joe  North     26\n",
      "17   Susan  South     26\n",
      "10    Josh  South     26\n",
      "16  Sharon  South     25\n",
      "4      Cam  North     24\n",
      "19  Xander  North     24\n",
      "1   Amanda  North     23\n",
      "2     Andy  North     23\n",
      "0    Alice  South     20\n"
     ]
    }
   ],
   "source": [
    "# Manipulation Question solution below:\n",
    "calls_summary = df.groupby(['Rep ID','Branch'])['Calls'].sum().reset_index()\n",
    "\n",
    "sorted_calls =calls_summary.sort_values(by='Calls',ascending=False)\n",
    "\n",
    "print(sorted_calls)"
   ]
  },
  {
   "cell_type": "code",
   "execution_count": 46,
   "id": "bacfdffe",
   "metadata": {},
   "outputs": [
    {
     "name": "stdout",
     "output_type": "stream",
     "text": [
      "  Rep ID Branch  Calls\n",
      "3  Brent  North     37\n",
      "6   Eric  South     35\n"
     ]
    }
   ],
   "source": [
    "import pandas as pd\n",
    "\n",
    "calls_summary = df.groupby(['Rep ID', 'Branch'])['Calls'].sum().reset_index()\n",
    "top_reps = calls_summary.loc[calls_summary.groupby('Branch')['Calls'].idxmax()]\n",
    "\n",
    "print(top_reps)"
   ]
  },
  {
   "cell_type": "markdown",
   "id": "7c29838c-1402-4e4b-94c9-050515d8dd18",
   "metadata": {},
   "source": [
    "##### Record your answer below\n",
    "Rep with the hightest number of calls and their total calls:\n",
    "- North Branch =  Brent North 37 calls\n",
    "- South Branch = Eric South   35 Calls"
   ]
  },
  {
   "cell_type": "markdown",
   "id": "809293b9",
   "metadata": {},
   "source": [
    "#### Manipulation Question 2:  The average call abandonment rate is a KPI when it comes to determining call center efficiency. As you may recall, abandoned calls are calls where the customer hangs up due to long call times. What is the average call abandonment rate for each branch and the whole company? Do any of these fall out of the optimal range of 2-5%?"
   ]
  },
  {
   "cell_type": "code",
   "execution_count": 47,
   "id": "3dff7534",
   "metadata": {},
   "outputs": [
    {
     "name": "stdout",
     "output_type": "stream",
     "text": [
      "245\n"
     ]
    }
   ],
   "source": [
    "# Manipulation Question 2 solution below:\n",
    "import pandas as pd\n",
    "\n",
    "north_df = pd.read_csv('NorthCallCenter.csv')\n",
    "\n",
    "total_calls_ndf = north_df['Incoming or Outgoing'].count()\n",
    "\n",
    "print(total_calls_ndf)"
   ]
  },
  {
   "cell_type": "code",
   "execution_count": 50,
   "id": "f37bc5ce",
   "metadata": {},
   "outputs": [
    {
     "name": "stdout",
     "output_type": "stream",
     "text": [
      "Unnamed: 0               7\n",
      "Branch                   7\n",
      "Call Purpose             7\n",
      "Time Block               7\n",
      "Incoming or Outgoing     7\n",
      "Queue                    7\n",
      "Rep ID                   7\n",
      "Sale                     7\n",
      "Lost Call                7\n",
      "Abandoned                7\n",
      "Busy Minutes             7\n",
      "Not Ready Minutes        7\n",
      "Incoming Wait Time       3\n",
      "During Call Wait Time    7\n",
      "Calls                    7\n",
      "dtype: int64\n",
      "7\n"
     ]
    }
   ],
   "source": [
    "north_df =pd.read_csv('NorthCallCenter.csv')\n",
    "\n",
    "Total_abandoned_ndf = north_df[north_df['Abandoned']== 1].count()\n",
    "Total_abadoned_calls_ndf = north_df[north_df['Abandoned']== 1].shape[0]\n",
    "\n",
    "print(Total_abandoned_ndf)\n",
    "print(Total_abadoned_calls_ndf)"
   ]
  },
  {
   "cell_type": "code",
   "execution_count": 51,
   "id": "47b420f6",
   "metadata": {},
   "outputs": [
    {
     "name": "stdout",
     "output_type": "stream",
     "text": [
      "Avg Abandonment Rate:2.86%\n"
     ]
    }
   ],
   "source": [
    "north_df = pd.read_csv('NorthCallCenter.csv')\n",
    "\n",
    "total_calls_ndf = north_df.shape[0]\n",
    "Total_abadoned_calls_ndf = north_df[north_df['Abandoned'] == 1].shape[0]\n",
    "\n",
    "if total_calls_ndf > 0:\n",
    "    Avg_abandinment_rate = (Total_abadoned_calls_ndf/total_calls_ndf)*100\n",
    "else:\n",
    "    Avg_abandinment_rate = 0\n",
    "\n",
    "print(f'Avg Abandonment Rate:{Avg_abandinment_rate:.2f}%')\n",
    "\n"
   ]
  },
  {
   "cell_type": "code",
   "execution_count": 52,
   "id": "b25930fa",
   "metadata": {},
   "outputs": [
    {
     "name": "stdout",
     "output_type": "stream",
     "text": [
      "314\n",
      "Unnamed: 0               4\n",
      "Branch                   4\n",
      "Call Purpose             4\n",
      "Time Block               4\n",
      "Incoming or Outgoing     4\n",
      "Queue                    4\n",
      "Rep ID                   4\n",
      "Sale                     4\n",
      "Lost Call                4\n",
      "Abandoned                4\n",
      "Busy Minutes             4\n",
      "Not Ready Minutes        4\n",
      "Incoming Wait Time       1\n",
      "During Call Wait Time    4\n",
      "Calls                    4\n",
      "dtype: int64\n",
      "4\n"
     ]
    }
   ],
   "source": [
    "import pandas as pd\n",
    "\n",
    "south_df = pd.read_csv('SouthCallCenter.csv')\n",
    "\n",
    "total_calls_sdf = south_df['Incoming or Outgoing'].count()\n",
    "\n",
    "print(total_calls_sdf)\n",
    "\n",
    "Total_abandoned_sdf = south_df[south_df['Abandoned']== 1].count()\n",
    "Total_abadoned_calls_sdf = south_df[south_df['Abandoned']== 1].shape[0]\n",
    "\n",
    "print(Total_abandoned_sdf)\n",
    "print(Total_abadoned_calls_sdf)"
   ]
  },
  {
   "cell_type": "code",
   "execution_count": 53,
   "id": "4b61c973",
   "metadata": {},
   "outputs": [
    {
     "name": "stdout",
     "output_type": "stream",
     "text": [
      "Avg Abandonment Rate:1.27%\n"
     ]
    }
   ],
   "source": [
    "south_df = pd.read_csv('SouthCallCenter.csv')\n",
    "\n",
    "total_calls_sdf = south_df.shape[0]\n",
    "Total_abadoned_calls_sdf = south_df[south_df['Abandoned'] == 1].shape[0]\n",
    "\n",
    "if total_calls_sdf > 0:\n",
    "    Avg_abandinment_rate = (Total_abadoned_calls_sdf/total_calls_sdf)*100\n",
    "else:\n",
    "    Avg_abandinment_rate = 0\n",
    "\n",
    "print(f'Avg Abandonment Rate:{Avg_abandinment_rate:.2f}%')"
   ]
  },
  {
   "cell_type": "code",
   "execution_count": 55,
   "id": "43f899d4",
   "metadata": {},
   "outputs": [
    {
     "name": "stdout",
     "output_type": "stream",
     "text": [
      "Total calls company wide:559\n",
      "Total Abandoned calls company wide:11\n"
     ]
    }
   ],
   "source": [
    "import pandas as pd\n",
    "\n",
    "north_df = pd.read_csv('NorthCallCenter.csv')\n",
    "south_df = pd. read_csv('SouthCallCenter.csv')\n",
    "\n",
    "df = pd.concat([north_df,south_df], ignore_index=True)\n",
    "\n",
    "Total_calls_company = df.shape[0]\n",
    "\n",
    "Total_abandondoned_company = df[df['Abandoned'] == 1].shape[0]\n",
    "\n",
    "print(f'Total calls company wide:{Total_calls_company}')\n",
    "print(f'Total Abandoned calls company wide:{Total_abandondoned_company}')"
   ]
  },
  {
   "cell_type": "code",
   "execution_count": 56,
   "id": "2fc5a364",
   "metadata": {},
   "outputs": [
    {
     "name": "stdout",
     "output_type": "stream",
     "text": [
      "Average Abandonamet Rate Comapny wide:1.97%\n"
     ]
    }
   ],
   "source": [
    "if Total_calls_company > 0:\n",
    "    Avg_abandinment_rate = (Total_abandondoned_company/Total_calls_company)*100\n",
    "else:\n",
    "    Avg_abandinment_rate = 0\n",
    "\n",
    "print(f'Average Abandonamet Rate Comapny wide:{Avg_abandinment_rate:.2f}%')"
   ]
  },
  {
   "cell_type": "markdown",
   "id": "c284596f-218f-4291-81b6-718ea5671feb",
   "metadata": {},
   "source": [
    "##### Record your answer below:\n",
    "Average Call Abandonment Rates (round to the nearest hundredth):\n",
    "- North Branch = 2.06% \n",
    "- South Branch = 1.27 %\n",
    "- Company Wide = 1.97 %\n",
    "- Do any of these fall out of the optimal range of 2-5%? No"
   ]
  },
  {
   "cell_type": "markdown",
   "id": "598bb1bf",
   "metadata": {},
   "source": [
    "#### Manipulation Question 3:  Service level is another KPI when it comes to measuring call center efficiency. Service level is the percentage of calls answered within a specific number of seconds. In the case of your employer, their ideal time frame is 2 seconds. What is the percentage of calls answered within 2 seconds for each branch and the entire company?"
   ]
  },
  {
   "cell_type": "code",
   "execution_count": 57,
   "id": "2fc8f669",
   "metadata": {},
   "outputs": [
    {
     "name": "stdout",
     "output_type": "stream",
     "text": [
      "North Call Center: 33.00%\n",
      "South Call Center: 48.00%\n",
      "Total Company: 38.94%\n"
     ]
    }
   ],
   "source": [
    "# Manipulation Question 3 solution below:\n",
    "import pandas as pd\n",
    "\n",
    "incoming_calls = df[df['Incoming or Outgoing'] == 'Incoming']\n",
    "\n",
    "calls_by_branch = incoming_calls.groupby('Branch').agg(\n",
    "    total_calls=('Calls', 'count'),  \n",
    "    answered_under_2 =('Incoming Wait Time', 'sum')  \n",
    ").reset_index()\n",
    "\n",
    "calls_by_branch['answered_under_2'] = incoming_calls[incoming_calls['Incoming Wait Time'] <= 2].groupby('Branch')['Incoming Wait Time'].count().reset_index(drop=True)\n",
    "\n",
    "calls_by_branch['answered_under_2_percentage'] = (\n",
    "    calls_by_branch['answered_under_2'] / calls_by_branch['total_calls']\n",
    ") * 100\n",
    "\n",
    "total_calls_company = calls_by_branch['total_calls'].sum()\n",
    "total_answered_under_2_company = calls_by_branch['answered_under_2'].sum()\n",
    "company_quick_answer_percentage = (\n",
    "    (total_answered_under_2_company / total_calls_company) * 100 \n",
    "    if total_calls_company > 0 \n",
    "    else 0\n",
    ")\n",
    "\n",
    "for index, row in calls_by_branch.iterrows():\n",
    "    print(f\"{row['Branch']} Call Center: {row['answered_under_2']:.2f}%\")\n",
    "\n",
    "print(f\"Total Company: {company_quick_answer_percentage:.2f}%\")\n",
    "\n"
   ]
  },
  {
   "cell_type": "code",
   "execution_count": 58,
   "id": "3b52987e",
   "metadata": {},
   "outputs": [
    {
     "name": "stdout",
     "output_type": "stream",
     "text": [
      "Answered within 2 by branch\n",
      "South:48 calls\n",
      "North:33 calls\n",
      "Total calls answered within 2 81\n"
     ]
    }
   ],
   "source": [
    "import pandas as pd\n",
    "\n",
    "north_df = pd.read_csv('NorthCallCenter.csv')\n",
    "south_df = pd.read_csv('SouthCallCenter.csv')\n",
    "\n",
    "df = pd.concat([north_df, south_df], ignore_index=True)\n",
    "\n",
    "answered_within_2 = df[df['Incoming Wait Time']<= 2]\n",
    "\n",
    "Calls_per_branch = answered_within_2['Branch'].value_counts()\n",
    "\n",
    "total_calls_company = answered_within_2.shape[0]\n",
    "\n",
    "print('Answered within 2 by branch')\n",
    "for branch, count in Calls_per_branch.items():\n",
    "    print(f\"{branch}:{count} calls\")\n",
    "print(f'Total calls answered within 2 {total_calls_company}')"
   ]
  },
  {
   "cell_type": "markdown",
   "id": "e3a4c9d9-4e11-4e1f-859a-d2c919f7d9ce",
   "metadata": {},
   "source": [
    "##### Record your answer below:\n",
    "Percentage of calls answered within 2 seconds, include # of calls:\n",
    "- North Branch = 33.00 % 48 calls\n",
    "- South Branch = 48.00 % 33 calls\n",
    "- Company Wide = 38.94 % 81 calls"
   ]
  },
  {
   "cell_type": "markdown",
   "id": "7e19e705",
   "metadata": {},
   "source": [
    "#### Manipulation Question 4: For each branch and the entire company, what is the average speed of answer?"
   ]
  },
  {
   "cell_type": "code",
   "execution_count": 59,
   "id": "72a653ed",
   "metadata": {},
   "outputs": [
    {
     "name": "stdout",
     "output_type": "stream",
     "text": [
      "Average speed of answer for North Call Center: 3.05 seconds\n",
      "Average speed of answer for South Call Center: 3.00 seconds\n",
      "Aerage speed of answer for the Company: 3.02 seconds\n"
     ]
    }
   ],
   "source": [
    "# Manipulation Question 4 solution below:\n",
    "import pandas as pd\n",
    "\n",
    "incoming_calls_df = df[df['Incoming or Outgoing'] == 'Incoming']\n",
    "\n",
    "average_speed_by_branch = incoming_calls_df.groupby('Branch').agg(\n",
    "    average_speed=('Incoming Wait Time', 'mean')  \n",
    ").reset_index()\n",
    "\n",
    "average_speed = incoming_calls_df['Incoming Wait Time'].mean()\n",
    "\n",
    "for index, row in average_speed_by_branch.iterrows():\n",
    "    print(f\"Average speed of answer for {row['Branch']} Call Center: {row['average_speed']:.2f} seconds\")\n",
    "\n",
    "\n",
    "print(f\"Aerage speed of answer for the Company: {average_speed:.2f} seconds\")"
   ]
  },
  {
   "cell_type": "markdown",
   "id": "fb04c65b-442b-48e1-b22c-b2af8b835ffd",
   "metadata": {},
   "source": [
    "##### Record your answer by below:\n",
    "Average speed of answer (rounded to nearest hundredth):\n",
    "- North Branch in seconds = 3.05 Seconds\n",
    "- South Branch in seconds = 3.00 Seconds\n",
    "- Company Wide in seconds = 3.02 Seconds"
   ]
  },
  {
   "cell_type": "markdown",
   "id": "d5f50a40",
   "metadata": {},
   "source": [
    "## Task 4: Visualization\n",
    "\n",
    "Create a visualization for each of the following questions. Some of the code to handle aggregating and storing data may be written for you. For each visualization, you choose the chart style that you feel suits the situation best. Make note of the chart style you chose and why. \n",
    "\n",
    "*NOTE Some questions you may decide to use more than one chart and or chart style."
   ]
  },
  {
   "cell_type": "markdown",
   "id": "66ccf83c",
   "metadata": {},
   "source": [
    "#### Visualization 1:  What is the average abandonment rate per queue?"
   ]
  },
  {
   "cell_type": "code",
   "execution_count": 4,
   "id": "c971d779",
   "metadata": {},
   "outputs": [
    {
     "name": "stderr",
     "output_type": "stream",
     "text": [
      "C:\\Users\\Office Admin\\AppData\\Local\\Temp\\ipykernel_12304\\2538770308.py:16: FutureWarning: Series.__getitem__ treating keys as positions is deprecated. In a future version, integer keys will always be treated as labels (consistent with DataFrame behavior). To access a value by position, use `ser.iloc[pos]`\n",
      "  abandonment_rates[queues[i]] = queue_dict[\"Abandoned\"][i] / queue_dict[\"Calls\"][i]\n"
     ]
    },
    {
     "data": {
      "image/png": "[encoded data removed]",
      "text/plain": [
       "<Figure size 1000x600 with 1 Axes>"
      ]
     },
     "metadata": {},
     "output_type": "display_data"
    }
   ],
   "source": [
    "# Create visualization 1 here\n",
    "# Import necessary libraries\n",
    "import pandas as pd\n",
    "import matplotlib.pyplot as plt\n",
    "\n",
    "North_df = pd.read_csv('NorthCallCenter.csv')\n",
    "South_df = pd.read_csv('SouthCallCenter.csv')\n",
    "\n",
    "df = pd.concat([North_df,South_df], ignore_index=True)\n",
    "\n",
    "abandonment_rates = {}\n",
    "queues = [\"A\", \"B\", \"C\", \"D\"]\n",
    "queue_dict = df.groupby(\"Queue\").agg(\"sum\")\n",
    "for i in range(4):\n",
    "    abandonment_rates[queues[i]] = queue_dict[\"Abandoned\"][i] / queue_dict[\"Calls\"][i]\n",
    "\n",
    "plt.figure(figsize=(10, 6))\n",
    "plt.bar(abandonment_rates.keys(), abandonment_rates.values(), color='skyblue')\n",
    "\n",
    "plt.title('Abandonment Rates by Queue', fontsize=16)\n",
    "plt.xlabel('Queue', fontsize=14)\n",
    "plt.ylabel('Abandonment Rate', fontsize=14)\n",
    "plt.ylim(0, 1)  \n",
    "plt.xticks(rotation=45)\n",
    "plt.grid(axis='y')\n",
    "\n",
    "plt.tight_layout()\n",
    "plt.show()\n",
    "\n"
   ]
  },
  {
   "cell_type": "markdown",
   "id": "00a821e7-b296-4950-8889-dacf36ef37fb",
   "metadata": {},
   "source": [
    "##### Record your answer below:\n",
    "\n",
    "> Chart style you chose and why: I chose a bar chart since we were comparing accross multiple Ques for the same piee of data. i.e. the abandonment rate. "
   ]
  },
  {
   "cell_type": "markdown",
   "id": "4a9fc77f",
   "metadata": {},
   "source": [
    "#### Visualization 2: What is the service level percentage and average speed of answer for each rep in the North Branch?"
   ]
  },
  {
   "cell_type": "code",
   "execution_count": 10,
   "id": "61f65a7f",
   "metadata": {},
   "outputs": [
    {
     "data": {
      "image/png": "[encoded data removed]",
      "text/plain": [
       "<Figure size 1200x600 with 2 Axes>"
      ]
     },
     "metadata": {},
     "output_type": "display_data"
    }
   ],
   "source": [
    "# Create visualization 2 here\n",
    "import pandas as pd\n",
    "import matplotlib.pyplot as plt\n",
    "\n",
    "north = pd.read_csv('NorthCallCenter.csv')\n",
    "\n",
    "# north_plt contains the data you need for the average speed of answer of each rep\n",
    "\n",
    "north_plt = north.groupby(\"Rep ID\")[\"Incoming Wait Time\"].mean().to_frame().reset_index()\n",
    "\n",
    "# Finding each Rep's Personal Service Level Percentage.  Basically, Calls within 2 secs / total calls\n",
    "\n",
    "# Table 1: Total Incoming calls less than 2 seconds grouped by Rep\n",
    "quick_calls = north[north[\"Incoming Wait Time\"] <= 2.0]\n",
    "quick_reps = quick_calls[[\"Rep ID\", \"Calls\"]]\n",
    "quick_stats = quick_reps.groupby([\"Rep ID\"]).sum()  # Final Table\n",
    "\n",
    "\n",
    "# Table 2: Total Incoming Calls Only grouped by Rep\n",
    "total_calls_in = north[north[\"Incoming or Outgoing\"] == \"Incoming\"]\n",
    "rep_calls = total_calls_in[[\"Rep ID\", \"Calls\"]]     \n",
    "total_stats = rep_calls.groupby([\"Rep ID\"]).sum() # Final Table  \n",
    "\n",
    "#  Table 3: Service Level Percentage created via merge\n",
    "service_level = pd.merge(quick_stats, total_stats, on=\"Rep ID\")\n",
    "\n",
    "# Create Percentage Column in Table 3\n",
    "service_level[\"Service Level %\"] = service_level[\"Calls_x\"]/service_level[\"Calls_y\"] * 100\n",
    "\n",
    "#Your Code Here:\n",
    "\n",
    "service_level = pd.merge(service_level, north_plt, on= \"Rep ID\")\n",
    "\n",
    "fig, ax1 = plt.subplots(figsize=(12, 6))\n",
    "\n",
    "color = 'tab:green'\n",
    "ax1.set_xlabel('Rep ID', fontsize=14)\n",
    "ax1.set_ylabel('Service Level %', color=color, fontsize= 14)\n",
    "ax1.bar(service_level['Rep ID'], service_level[\"Service Level %\"], color=color, alpha= 0.6, label='Service Levele %')\n",
    "ax1.tick_params(axis='y',labelcolor=color)\n",
    "\n",
    "#average speed of answer\n",
    "ax2 = ax1.twinx()\n",
    "color = 'tab:red'\n",
    "ax2.set_ylabel('Average Speed of Answer', color=color, fontsize=14)\n",
    "ax2.plot(service_level['Rep ID'], service_level[\"Incoming Wait Time\"], color=color, marker= 'o', label= 'Avg Speed of Answer')\n",
    "ax2.tick_params(axis= 'y', labelcolor=color)\n",
    "\n",
    "plt.title('Service Level Percentage and AVerage Speed of Answer by Rep in NorthBranch', fontsize=16)\n",
    "ax1.grid(axis='y', alpha= 0.5)\n",
    "\n",
    "fig.tight_layout()\n",
    "plt.show()\n",
    "\n"
   ]
  },
  {
   "cell_type": "markdown",
   "id": "4d4cad4d-f9fb-4927-8a45-4b5cd17edd3a",
   "metadata": {},
   "source": [
    "##### Record your answer below:\n",
    "\n",
    "> Chart style you chose and why: I chose a bar chart and line chart combo. Th Bar chart shows the service level percentage while the Line graph shows the Average soeed answered."
   ]
  },
  {
   "cell_type": "markdown",
   "id": "f965e41a",
   "metadata": {},
   "source": [
    "#### Visualization 3: For each type of call purpose, how many calls are outgoing vs. incoming?"
   ]
  },
  {
   "cell_type": "code",
   "execution_count": 26,
   "id": "44096730",
   "metadata": {},
   "outputs": [
    {
     "name": "stdout",
     "output_type": "stream",
     "text": [
      "Call Purpose     Incoming or Outgoing\n",
      "Complaint        Incoming                 51\n",
      "Product Support  Outgoing                228\n",
      "                 Incoming                 82\n",
      "Sales Support    Outgoing                123\n",
      "                 Incoming                 75\n",
      "Name: count, dtype: int64\n"
     ]
    },
    {
     "data": {
      "image/png": "[encoded data removed]",
      "text/plain": [
       "<Figure size 1000x600 with 1 Axes>"
      ]
     },
     "metadata": {},
     "output_type": "display_data"
    }
   ],
   "source": [
    "# Create visualization 3 here:\n",
    "import pandas as pd\n",
    "import matplotlib.pyplot as plt\n",
    "\n",
    "# The three dictionaries, complaints, sales_support, and product_support, have the information you need\n",
    "\n",
    "purpose_group = df.groupby(\"Call Purpose\")\n",
    "call_purpose = [\"Complaint\", \"Product Support\", \"Sales Support\"]\n",
    "purpose_counts = purpose_group[\"Incoming or Outgoing\"].value_counts()\n",
    "print(purpose_counts)\n",
    "\n",
    "complaints = purpose_counts[\"Complaint\"].to_dict()\n",
    "sales_support = purpose_counts[\"Sales Support\"].to_dict()\n",
    "product_support = purpose_counts[\"Product Support\"].to_dict()\n",
    "\n",
    "#Your Code Here:\n",
    "\n",
    "fig, ax = plt.subplots(figsize=(10, 6))\n",
    "\n",
    "purpose_counts.plot(kind='bar', ax=ax, color=['skyblue', 'lightcoral'])\n",
    "\n",
    "plt.title('Number of Incoming V. Outgoing Calls by Call purpose', fontsize=16)\n",
    "plt.xlabel('Call Purpose', fontsize=12)\n",
    "plt.ylabel('Number of Calls',fontsize = 0)\n",
    "plt.xticks(rotation=45)\n",
    "plt.yticks(rotation=45)\n",
    "\n",
    "ax.legend(['Incoming','Outgoing'], title=\"call Type\")\n",
    "\n",
    "plt.tight_layout()\n",
    "plt.show()"
   ]
  },
  {
   "cell_type": "markdown",
   "id": "9198bbe4-44ef-4e21-bd40-6ace8e9f7694",
   "metadata": {},
   "source": [
    "##### Record your answer below:\n",
    "\n",
    "> Chart style you chose and why: I used a bar chart with differing colors for Incoming v. outgoing to see the differnce between the two fro each category. "
   ]
  },
  {
   "cell_type": "markdown",
   "id": "ea7ed568",
   "metadata": {},
   "source": [
    "## Task 5: Summarize Your Work\n",
    "\n",
    "With what you know now about the two call centers and the entire company, answer the following questions. Note that while this is subjective, you should include relevant data to back up your opinion.\n"
   ]
  },
  {
   "cell_type": "markdown",
   "id": "d2fc3d13",
   "metadata": {},
   "source": [
    "#### Summary Question 1:  Using KPIs such as average abandonment rate, service level and average speed of answer, in your opinion, which one of the two branches is operating more efficiently? Why?\n",
    "\n",
    "##### Record your answer below:\n",
    "> Your Answer: \n",
    " Overall the South Branch based on KPI is operating more effeciently with a lower abandonment rate, higher percentage of calls ansered with in 2 seconds and they are also marginally faster when it comes to avergae speed of answer. \n"
   ]
  },
  {
   "cell_type": "markdown",
   "id": "489f28d6",
   "metadata": {},
   "source": [
    "#### Summary Question 2: Based on the number of reps in each branch and how quickly the reps are working, in your opinion, which branch would benefit from the extra help?\n",
    "\n",
    "##### Record your answer below:\n",
    "> Your Answer: The North Branch could use the extra reps given that they have fewer to begin with and are short on KPI's compared to teh South Branch. \n"
   ]
  },
  {
   "cell_type": "markdown",
   "id": "0b10a8c3",
   "metadata": {},
   "source": [
    "#### Summary Question 3: Now that you have explored the datasets, is there any data or information that you wish you had in this analysis?\n",
    "\n",
    "##### Record your answer below:\n",
    "> Your Answer: Overall I was happy with this dataset and its contents. it had everything we neede to answer the questions efficiently. I tmay have been beneficial to have The Incoing and outgoing seperated into two columns but even that was negligiable in terms of being a hindereance. \n"
   ]
  },
  {
   "cell_type": "markdown",
   "id": "ce16f43d",
   "metadata": {},
   "source": [
    "## Bonus Mission\n",
    "Create a visualization that answers this question: For each call purpose, how many calls (incoming and outgoing) take place in each time block?\n",
    "##### Record your answer below:\n",
    "\n",
    "> Chart style you chose and why: "
   ]
  },
  {
   "cell_type": "code",
   "execution_count": 4,
   "id": "71b04f32",
   "metadata": {},
   "outputs": [
    {
     "ename": "NameError",
     "evalue": "name 'df' is not defined",
     "output_type": "error",
     "traceback": [
      "\u001b[0;31m---------------------------------------------------------------------------\u001b[0m",
      "\u001b[0;31mNameError\u001b[0m                                 Traceback (most recent call last)",
      "\u001b[0;32m/tmp/ipykernel_10106/3163764672.py\u001b[0m in \u001b[0;36m<module>\u001b[0;34m\u001b[0m\n\u001b[1;32m      1\u001b[0m \u001b[0;31m# Create your Bonus Mission visualization here!\u001b[0m\u001b[0;34m\u001b[0m\u001b[0;34m\u001b[0m\u001b[0m\n\u001b[0;32m----> 2\u001b[0;31m \u001b[0mcall_times\u001b[0m \u001b[0;34m=\u001b[0m \u001b[0mdf\u001b[0m\u001b[0;34m[\u001b[0m\u001b[0;34m[\u001b[0m\u001b[0;34m\"Time Block\"\u001b[0m\u001b[0;34m,\u001b[0m \u001b[0;34m\"Call Purpose\"\u001b[0m\u001b[0;34m,\u001b[0m \u001b[0;34m\"Incoming or Outgoing\"\u001b[0m\u001b[0;34m,\u001b[0m \u001b[0;34m\"Calls\"\u001b[0m\u001b[0;34m]\u001b[0m\u001b[0;34m]\u001b[0m\u001b[0;34m\u001b[0m\u001b[0;34m\u001b[0m\u001b[0m\n\u001b[0m\u001b[1;32m      3\u001b[0m \u001b[0;34m\u001b[0m\u001b[0m\n\u001b[1;32m      4\u001b[0m \u001b[0;31m# Use groupby to plot based on time blocks:\u001b[0m\u001b[0;34m\u001b[0m\u001b[0;34m\u001b[0m\u001b[0m\n\u001b[1;32m      5\u001b[0m \u001b[0;34m\u001b[0m\u001b[0m\n",
      "\u001b[0;31mNameError\u001b[0m: name 'df' is not defined"
     ]
    }
   ],
   "source": [
    "# Create your Bonus Mission visualization here!\n",
    "call_times = df[[\"Time Block\", \"Call Purpose\", \"Incoming or Outgoing\", \"Calls\"]]\n",
    "\n",
    "# Use groupby to plot based on time blocks:\n",
    "\n",
    "# Use groupby and get_group to select which call purpose to plot:"
   ]
  }
 ],
 "metadata": {
  "kernelspec": {
   "display_name": ".venv",
   "language": "python",
   "name": "python3"
  },
  "language_info": {
   "codemirror_mode": {
    "name": "ipython",
    "version": 3
   },
   "file_extension": ".py",
   "mimetype": "text/x-python",
   "name": "python",
   "nbconvert_exporter": "python",
   "pygments_lexer": "ipython3",
   "version": "3.12.7"
  }
 },
 "nbformat": 4,
 "nbformat_minor": 5
}
